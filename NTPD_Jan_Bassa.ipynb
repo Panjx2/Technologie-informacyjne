{
 "cells": [
  {
   "cell_type": "markdown",
   "id": "43b33dff-7c93-4386-84d4-6f1157e1050f",
   "metadata": {},
   "source": [
    "# Jan Bassa 120594"
   ]
  },
  {
   "cell_type": "markdown",
   "id": "980f48d3-805a-4312-b984-865cdf51bfa9",
   "metadata": {},
   "source": [
    "# Zadanie 1: Przygotowanie środowiska i danych\n"
   ]
  },
  {
   "cell_type": "code",
   "execution_count": 9,
   "id": "b3ce53ef-71b8-4ecf-a35a-fc0766efa073",
   "metadata": {},
   "outputs": [
    {
     "name": "stderr",
     "output_type": "stream",
     "text": [
      "2025-03-06 12:07:12.194924: I tensorflow/core/util/port.cc:153] oneDNN custom operations are on. You may see slightly different numerical results due to floating-point round-off errors from different computation orders. To turn them off, set the environment variable `TF_ENABLE_ONEDNN_OPTS=0`.\n",
      "2025-03-06 12:07:12.196701: I external/local_xla/xla/tsl/cuda/cudart_stub.cc:32] Could not find cuda drivers on your machine, GPU will not be used.\n",
      "2025-03-06 12:07:12.201171: I external/local_xla/xla/tsl/cuda/cudart_stub.cc:32] Could not find cuda drivers on your machine, GPU will not be used.\n",
      "2025-03-06 12:07:12.214136: E external/local_xla/xla/stream_executor/cuda/cuda_fft.cc:477] Unable to register cuFFT factory: Attempting to register factory for plugin cuFFT when one has already been registered\n",
      "WARNING: All log messages before absl::InitializeLog() is called are written to STDERR\n",
      "E0000 00:00:1741259232.238367 1276673 cuda_dnn.cc:8310] Unable to register cuDNN factory: Attempting to register factory for plugin cuDNN when one has already been registered\n",
      "E0000 00:00:1741259232.245601 1276673 cuda_blas.cc:1418] Unable to register cuBLAS factory: Attempting to register factory for plugin cuBLAS when one has already been registered\n",
      "2025-03-06 12:07:12.270403: I tensorflow/core/platform/cpu_feature_guard.cc:210] This TensorFlow binary is optimized to use available CPU instructions in performance-critical operations.\n",
      "To enable the following instructions: AVX2 AVX512F AVX512_VNNI FMA, in other operations, rebuild TensorFlow with the appropriate compiler flags.\n"
     ]
    }
   ],
   "source": [
    "import tensorflow as tf\n",
    "from tensorflow import keras\n",
    "import numpy as np\n",
    "import pandas as pd\n",
    "from sklearn.ensemble import RandomForestClassifier\n",
    "from sklearn.model_selection import train_test_split, GridSearchCV\n",
    "from sklearn.metrics import accuracy_score, classification_report\n",
    "import matplotlib.pyplot as plt\n",
    "from sklearn.preprocessing import StandardScaler\n",
    "import seaborn as sns\n",
    "import time\n",
    "import joblib\n"
   ]
  },
  {
   "cell_type": "code",
   "execution_count": 5,
   "id": "80855280-4d4e-49f5-acb5-304063d1d934",
   "metadata": {},
   "outputs": [
    {
     "name": "stdout",
     "output_type": "stream",
     "text": [
      "📌 Pierwsze 5 wierszy:\n",
      "   sepal length (cm)  sepal width (cm)  petal length (cm)  petal width (cm)  \\\n",
      "0                5.1               3.5                1.4               0.2   \n",
      "1                4.9               3.0                1.4               0.2   \n",
      "2                4.7               3.2                1.3               0.2   \n",
      "3                4.6               3.1                1.5               0.2   \n",
      "4                5.0               3.6                1.4               0.2   \n",
      "\n",
      "   target  \n",
      "0       0  \n",
      "1       0  \n",
      "2       0  \n",
      "3       0  \n",
      "4       0  \n",
      "\n",
      "📌 Informacje o danych:\n",
      "<class 'pandas.core.frame.DataFrame'>\n",
      "RangeIndex: 150 entries, 0 to 149\n",
      "Data columns (total 5 columns):\n",
      " #   Column             Non-Null Count  Dtype  \n",
      "---  ------             --------------  -----  \n",
      " 0   sepal length (cm)  150 non-null    float64\n",
      " 1   sepal width (cm)   150 non-null    float64\n",
      " 2   petal length (cm)  150 non-null    float64\n",
      " 3   petal width (cm)   150 non-null    float64\n",
      " 4   target             150 non-null    int64  \n",
      "dtypes: float64(4), int64(1)\n",
      "memory usage: 6.0 KB\n",
      "None\n",
      "\n",
      "📌 Rozmiar zbioru danych:\n",
      "Liczba wierszy: 150, Liczba kolumn: 5\n"
     ]
    }
   ],
   "source": [
    "from sklearn.datasets import load_iris\n",
    "import pandas as pd\n",
    "from sklearn.datasets import load_iris\n",
    "from sklearn.model_selection import train_test_split\n",
    "\n",
    "# 1. Wczytanie danych\n",
    "data = load_iris()\n",
    "X, y = data.data, data.target\n",
    "feature_names = data.feature_names\n",
    "\n",
    "# Konwersja do DataFrame dla lepszej czytelności\n",
    "df = pd.DataFrame(X, columns=feature_names)\n",
    "df['target'] = y\n",
    "\n",
    "# 2. Podział na zbiór treningowy i testowy\n",
    "X_train, X_test, y_train, y_test = train_test_split(X, y, test_size=0.2, random_state=42)\n",
    "\n",
    "# 3. Analiza danych\n",
    "print(\"📌 Pierwsze 5 wierszy:\")\n",
    "print(df.head())\n",
    "\n",
    "print(\"\\n📌 Informacje o danych:\")\n",
    "print(df.info())\n",
    "\n",
    "print(\"\\n📌 Rozmiar zbioru danych:\")\n",
    "print(f\"Liczba wierszy: {df.shape[0]}, Liczba kolumn: {df.shape[1]}\")"
   ]
  },
  {
   "cell_type": "markdown",
   "id": "6727a3c2-25c8-4bcb-88c8-75c1f266fcd3",
   "metadata": {},
   "source": [
    " # Zadanie 2: Stworzenie prostego modelu ML (scikit-learnlub TensorFlow)\n",
    " ## Wariant B: TensorFlow / Keras"
   ]
  },
  {
   "cell_type": "code",
   "execution_count": 10,
   "id": "00479c7c-afab-4aae-ada0-89fef94356df",
   "metadata": {},
   "outputs": [
    {
     "name": "stdout",
     "output_type": "stream",
     "text": [
      "Epoch 1/50\n"
     ]
    },
    {
     "name": "stderr",
     "output_type": "stream",
     "text": [
      "/home/ai/s4/lib/python3.10/site-packages/keras/src/layers/core/dense.py:87: UserWarning: Do not pass an `input_shape`/`input_dim` argument to a layer. When using Sequential models, prefer using an `Input(shape)` object as the first layer in the model instead.\n",
      "  super().__init__(activity_regularizer=activity_regularizer, **kwargs)\n",
      "W0000 00:00:1741259243.453352 1276673 gpu_device.cc:2344] Cannot dlopen some GPU libraries. Please make sure the missing libraries mentioned above are installed properly if you would like to use GPU. Follow the guide at https://www.tensorflow.org/install/gpu for how to download and setup the required libraries for your platform.\n",
      "Skipping registering GPU devices...\n"
     ]
    },
    {
     "name": "stdout",
     "output_type": "stream",
     "text": [
      "\u001b[1m4/4\u001b[0m \u001b[32m━━━━━━━━━━━━━━━━━━━━\u001b[0m\u001b[37m\u001b[0m \u001b[1m1s\u001b[0m 69ms/step - accuracy: 0.3677 - loss: 1.0914 - val_accuracy: 0.4000 - val_loss: 1.0144\n",
      "Epoch 2/50\n",
      "\u001b[1m4/4\u001b[0m \u001b[32m━━━━━━━━━━━━━━━━━━━━\u001b[0m\u001b[37m\u001b[0m \u001b[1m0s\u001b[0m 21ms/step - accuracy: 0.3373 - loss: 1.0597 - val_accuracy: 0.4000 - val_loss: 0.9736\n",
      "Epoch 3/50\n",
      "\u001b[1m4/4\u001b[0m \u001b[32m━━━━━━━━━━━━━━━━━━━━\u001b[0m\u001b[37m\u001b[0m \u001b[1m0s\u001b[0m 22ms/step - accuracy: 0.3469 - loss: 1.0213 - val_accuracy: 0.4000 - val_loss: 0.9362\n",
      "Epoch 4/50\n",
      "\u001b[1m4/4\u001b[0m \u001b[32m━━━━━━━━━━━━━━━━━━━━\u001b[0m\u001b[37m\u001b[0m \u001b[1m0s\u001b[0m 24ms/step - accuracy: 0.3871 - loss: 0.9763 - val_accuracy: 0.4000 - val_loss: 0.9020\n",
      "Epoch 5/50\n",
      "\u001b[1m4/4\u001b[0m \u001b[32m━━━━━━━━━━━━━━━━━━━━\u001b[0m\u001b[37m\u001b[0m \u001b[1m0s\u001b[0m 21ms/step - accuracy: 0.3433 - loss: 0.9601 - val_accuracy: 0.4000 - val_loss: 0.8709\n",
      "Epoch 6/50\n",
      "\u001b[1m4/4\u001b[0m \u001b[32m━━━━━━━━━━━━━━━━━━━━\u001b[0m\u001b[37m\u001b[0m \u001b[1m0s\u001b[0m 22ms/step - accuracy: 0.3769 - loss: 0.9144 - val_accuracy: 0.4000 - val_loss: 0.8434\n",
      "Epoch 7/50\n",
      "\u001b[1m4/4\u001b[0m \u001b[32m━━━━━━━━━━━━━━━━━━━━\u001b[0m\u001b[37m\u001b[0m \u001b[1m0s\u001b[0m 21ms/step - accuracy: 0.3785 - loss: 0.8993 - val_accuracy: 0.4000 - val_loss: 0.8191\n",
      "Epoch 8/50\n",
      "\u001b[1m4/4\u001b[0m \u001b[32m━━━━━━━━━━━━━━━━━━━━\u001b[0m\u001b[37m\u001b[0m \u001b[1m0s\u001b[0m 20ms/step - accuracy: 0.3840 - loss: 0.8734 - val_accuracy: 0.6000 - val_loss: 0.7971\n",
      "Epoch 9/50\n",
      "\u001b[1m4/4\u001b[0m \u001b[32m━━━━━━━━━━━━━━━━━━━━\u001b[0m\u001b[37m\u001b[0m \u001b[1m0s\u001b[0m 21ms/step - accuracy: 0.4994 - loss: 0.8171 - val_accuracy: 0.7000 - val_loss: 0.7772\n",
      "Epoch 10/50\n",
      "\u001b[1m4/4\u001b[0m \u001b[32m━━━━━━━━━━━━━━━━━━━━\u001b[0m\u001b[37m\u001b[0m \u001b[1m0s\u001b[0m 20ms/step - accuracy: 0.6162 - loss: 0.8316 - val_accuracy: 0.7667 - val_loss: 0.7591\n",
      "Epoch 11/50\n",
      "\u001b[1m4/4\u001b[0m \u001b[32m━━━━━━━━━━━━━━━━━━━━\u001b[0m\u001b[37m\u001b[0m \u001b[1m0s\u001b[0m 20ms/step - accuracy: 0.6817 - loss: 0.7937 - val_accuracy: 0.8000 - val_loss: 0.7415\n",
      "Epoch 12/50\n",
      "\u001b[1m4/4\u001b[0m \u001b[32m━━━━━━━━━━━━━━━━━━━━\u001b[0m\u001b[37m\u001b[0m \u001b[1m0s\u001b[0m 20ms/step - accuracy: 0.7017 - loss: 0.8000 - val_accuracy: 0.8333 - val_loss: 0.7235\n",
      "Epoch 13/50\n",
      "\u001b[1m4/4\u001b[0m \u001b[32m━━━━━━━━━━━━━━━━━━━━\u001b[0m\u001b[37m\u001b[0m \u001b[1m0s\u001b[0m 21ms/step - accuracy: 0.7610 - loss: 0.7674 - val_accuracy: 0.8333 - val_loss: 0.7051\n",
      "Epoch 14/50\n",
      "\u001b[1m4/4\u001b[0m \u001b[32m━━━━━━━━━━━━━━━━━━━━\u001b[0m\u001b[37m\u001b[0m \u001b[1m0s\u001b[0m 21ms/step - accuracy: 0.7333 - loss: 0.7783 - val_accuracy: 0.8333 - val_loss: 0.6866\n",
      "Epoch 15/50\n",
      "\u001b[1m4/4\u001b[0m \u001b[32m━━━━━━━━━━━━━━━━━━━━\u001b[0m\u001b[37m\u001b[0m \u001b[1m0s\u001b[0m 23ms/step - accuracy: 0.8244 - loss: 0.7202 - val_accuracy: 0.8333 - val_loss: 0.6665\n",
      "Epoch 16/50\n",
      "\u001b[1m4/4\u001b[0m \u001b[32m━━━━━━━━━━━━━━━━━━━━\u001b[0m\u001b[37m\u001b[0m \u001b[1m0s\u001b[0m 25ms/step - accuracy: 0.8256 - loss: 0.7281 - val_accuracy: 0.8333 - val_loss: 0.6438\n",
      "Epoch 17/50\n",
      "\u001b[1m4/4\u001b[0m \u001b[32m━━━━━━━━━━━━━━━━━━━━\u001b[0m\u001b[37m\u001b[0m \u001b[1m0s\u001b[0m 20ms/step - accuracy: 0.8067 - loss: 0.7012 - val_accuracy: 0.8333 - val_loss: 0.6201\n",
      "Epoch 18/50\n",
      "\u001b[1m4/4\u001b[0m \u001b[32m━━━━━━━━━━━━━━━━━━━━\u001b[0m\u001b[37m\u001b[0m \u001b[1m0s\u001b[0m 22ms/step - accuracy: 0.7921 - loss: 0.6731 - val_accuracy: 0.8333 - val_loss: 0.5969\n",
      "Epoch 19/50\n",
      "\u001b[1m4/4\u001b[0m \u001b[32m━━━━━━━━━━━━━━━━━━━━\u001b[0m\u001b[37m\u001b[0m \u001b[1m0s\u001b[0m 21ms/step - accuracy: 0.7900 - loss: 0.6555 - val_accuracy: 0.8667 - val_loss: 0.5740\n",
      "Epoch 20/50\n",
      "\u001b[1m4/4\u001b[0m \u001b[32m━━━━━━━━━━━━━━━━━━━━\u001b[0m\u001b[37m\u001b[0m \u001b[1m0s\u001b[0m 20ms/step - accuracy: 0.8238 - loss: 0.6228 - val_accuracy: 0.9000 - val_loss: 0.5511\n",
      "Epoch 21/50\n",
      "\u001b[1m4/4\u001b[0m \u001b[32m━━━━━━━━━━━━━━━━━━━━\u001b[0m\u001b[37m\u001b[0m \u001b[1m0s\u001b[0m 21ms/step - accuracy: 0.8531 - loss: 0.5755 - val_accuracy: 0.9000 - val_loss: 0.5278\n",
      "Epoch 22/50\n",
      "\u001b[1m4/4\u001b[0m \u001b[32m━━━━━━━━━━━━━━━━━━━━\u001b[0m\u001b[37m\u001b[0m \u001b[1m0s\u001b[0m 20ms/step - accuracy: 0.8271 - loss: 0.5699 - val_accuracy: 0.9000 - val_loss: 0.5032\n",
      "Epoch 23/50\n",
      "\u001b[1m4/4\u001b[0m \u001b[32m━━━━━━━━━━━━━━━━━━━━\u001b[0m\u001b[37m\u001b[0m \u001b[1m0s\u001b[0m 20ms/step - accuracy: 0.8533 - loss: 0.5391 - val_accuracy: 0.9000 - val_loss: 0.4748\n",
      "Epoch 24/50\n",
      "\u001b[1m4/4\u001b[0m \u001b[32m━━━━━━━━━━━━━━━━━━━━\u001b[0m\u001b[37m\u001b[0m \u001b[1m0s\u001b[0m 20ms/step - accuracy: 0.8254 - loss: 0.5267 - val_accuracy: 0.9000 - val_loss: 0.4432\n",
      "Epoch 25/50\n",
      "\u001b[1m4/4\u001b[0m \u001b[32m━━━━━━━━━━━━━━━━━━━━\u001b[0m\u001b[37m\u001b[0m \u001b[1m0s\u001b[0m 20ms/step - accuracy: 0.8610 - loss: 0.4832 - val_accuracy: 0.9000 - val_loss: 0.4120\n",
      "Epoch 26/50\n",
      "\u001b[1m4/4\u001b[0m \u001b[32m━━━━━━━━━━━━━━━━━━━━\u001b[0m\u001b[37m\u001b[0m \u001b[1m0s\u001b[0m 20ms/step - accuracy: 0.8537 - loss: 0.4728 - val_accuracy: 0.9000 - val_loss: 0.3833\n",
      "Epoch 27/50\n",
      "\u001b[1m4/4\u001b[0m \u001b[32m━━━━━━━━━━━━━━━━━━━━\u001b[0m\u001b[37m\u001b[0m \u001b[1m0s\u001b[0m 21ms/step - accuracy: 0.8623 - loss: 0.4451 - val_accuracy: 0.9000 - val_loss: 0.3575\n",
      "Epoch 28/50\n",
      "\u001b[1m4/4\u001b[0m \u001b[32m━━━━━━━━━━━━━━━━━━━━\u001b[0m\u001b[37m\u001b[0m \u001b[1m0s\u001b[0m 20ms/step - accuracy: 0.8717 - loss: 0.4217 - val_accuracy: 0.9000 - val_loss: 0.3352\n",
      "Epoch 29/50\n",
      "\u001b[1m4/4\u001b[0m \u001b[32m━━━━━━━━━━━━━━━━━━━━\u001b[0m\u001b[37m\u001b[0m \u001b[1m0s\u001b[0m 20ms/step - accuracy: 0.8560 - loss: 0.3944 - val_accuracy: 0.9333 - val_loss: 0.3161\n",
      "Epoch 30/50\n",
      "\u001b[1m4/4\u001b[0m \u001b[32m━━━━━━━━━━━━━━━━━━━━\u001b[0m\u001b[37m\u001b[0m \u001b[1m0s\u001b[0m 20ms/step - accuracy: 0.8552 - loss: 0.3788 - val_accuracy: 0.9333 - val_loss: 0.2997\n",
      "Epoch 31/50\n",
      "\u001b[1m4/4\u001b[0m \u001b[32m━━━━━━━━━━━━━━━━━━━━\u001b[0m\u001b[37m\u001b[0m \u001b[1m0s\u001b[0m 20ms/step - accuracy: 0.8813 - loss: 0.3572 - val_accuracy: 0.9333 - val_loss: 0.2855\n",
      "Epoch 32/50\n",
      "\u001b[1m4/4\u001b[0m \u001b[32m━━━━━━━━━━━━━━━━━━━━\u001b[0m\u001b[37m\u001b[0m \u001b[1m0s\u001b[0m 20ms/step - accuracy: 0.8762 - loss: 0.3298 - val_accuracy: 0.9333 - val_loss: 0.2727\n",
      "Epoch 33/50\n",
      "\u001b[1m4/4\u001b[0m \u001b[32m━━━━━━━━━━━━━━━━━━━━\u001b[0m\u001b[37m\u001b[0m \u001b[1m0s\u001b[0m 20ms/step - accuracy: 0.8512 - loss: 0.3413 - val_accuracy: 0.9333 - val_loss: 0.2613\n",
      "Epoch 34/50\n",
      "\u001b[1m4/4\u001b[0m \u001b[32m━━━━━━━━━━━━━━━━━━━━\u001b[0m\u001b[37m\u001b[0m \u001b[1m0s\u001b[0m 20ms/step - accuracy: 0.9056 - loss: 0.3047 - val_accuracy: 0.9333 - val_loss: 0.2514\n",
      "Epoch 35/50\n",
      "\u001b[1m4/4\u001b[0m \u001b[32m━━━━━━━━━━━━━━━━━━━━\u001b[0m\u001b[37m\u001b[0m \u001b[1m0s\u001b[0m 20ms/step - accuracy: 0.9090 - loss: 0.3018 - val_accuracy: 0.9333 - val_loss: 0.2426\n",
      "Epoch 36/50\n",
      "\u001b[1m4/4\u001b[0m \u001b[32m━━━━━━━━━━━━━━━━━━━━\u001b[0m\u001b[37m\u001b[0m \u001b[1m0s\u001b[0m 20ms/step - accuracy: 0.8777 - loss: 0.3180 - val_accuracy: 0.9333 - val_loss: 0.2340\n",
      "Epoch 37/50\n",
      "\u001b[1m4/4\u001b[0m \u001b[32m━━━━━━━━━━━━━━━━━━━━\u001b[0m\u001b[37m\u001b[0m \u001b[1m0s\u001b[0m 20ms/step - accuracy: 0.9112 - loss: 0.2841 - val_accuracy: 0.9333 - val_loss: 0.2262\n",
      "Epoch 38/50\n",
      "\u001b[1m4/4\u001b[0m \u001b[32m━━━━━━━━━━━━━━━━━━━━\u001b[0m\u001b[37m\u001b[0m \u001b[1m0s\u001b[0m 20ms/step - accuracy: 0.9135 - loss: 0.2776 - val_accuracy: 0.9333 - val_loss: 0.2195\n",
      "Epoch 39/50\n",
      "\u001b[1m4/4\u001b[0m \u001b[32m━━━━━━━━━━━━━━━━━━━━\u001b[0m\u001b[37m\u001b[0m \u001b[1m0s\u001b[0m 20ms/step - accuracy: 0.9250 - loss: 0.2599 - val_accuracy: 0.9333 - val_loss: 0.2125\n",
      "Epoch 40/50\n",
      "\u001b[1m4/4\u001b[0m \u001b[32m━━━━━━━━━━━━━━━━━━━━\u001b[0m\u001b[37m\u001b[0m \u001b[1m0s\u001b[0m 20ms/step - accuracy: 0.9042 - loss: 0.2792 - val_accuracy: 0.9333 - val_loss: 0.2054\n",
      "Epoch 41/50\n",
      "\u001b[1m4/4\u001b[0m \u001b[32m━━━━━━━━━━━━━━━━━━━━\u001b[0m\u001b[37m\u001b[0m \u001b[1m0s\u001b[0m 20ms/step - accuracy: 0.9010 - loss: 0.2753 - val_accuracy: 0.9333 - val_loss: 0.1989\n",
      "Epoch 42/50\n",
      "\u001b[1m4/4\u001b[0m \u001b[32m━━━━━━━━━━━━━━━━━━━━\u001b[0m\u001b[37m\u001b[0m \u001b[1m0s\u001b[0m 20ms/step - accuracy: 0.9325 - loss: 0.2354 - val_accuracy: 0.9333 - val_loss: 0.1929\n",
      "Epoch 43/50\n",
      "\u001b[1m4/4\u001b[0m \u001b[32m━━━━━━━━━━━━━━━━━━━━\u001b[0m\u001b[37m\u001b[0m \u001b[1m0s\u001b[0m 20ms/step - accuracy: 0.9223 - loss: 0.2527 - val_accuracy: 0.9667 - val_loss: 0.1860\n",
      "Epoch 44/50\n",
      "\u001b[1m4/4\u001b[0m \u001b[32m━━━━━━━━━━━━━━━━━━━━\u001b[0m\u001b[37m\u001b[0m \u001b[1m0s\u001b[0m 20ms/step - accuracy: 0.9569 - loss: 0.2197 - val_accuracy: 0.9667 - val_loss: 0.1807\n",
      "Epoch 45/50\n",
      "\u001b[1m4/4\u001b[0m \u001b[32m━━━━━━━━━━━━━━━━━━━━\u001b[0m\u001b[37m\u001b[0m \u001b[1m0s\u001b[0m 20ms/step - accuracy: 0.9437 - loss: 0.2406 - val_accuracy: 0.9667 - val_loss: 0.1757\n",
      "Epoch 46/50\n",
      "\u001b[1m4/4\u001b[0m \u001b[32m━━━━━━━━━━━━━━━━━━━━\u001b[0m\u001b[37m\u001b[0m \u001b[1m0s\u001b[0m 20ms/step - accuracy: 0.9677 - loss: 0.2243 - val_accuracy: 0.9667 - val_loss: 0.1705\n",
      "Epoch 47/50\n",
      "\u001b[1m4/4\u001b[0m \u001b[32m━━━━━━━━━━━━━━━━━━━━\u001b[0m\u001b[37m\u001b[0m \u001b[1m0s\u001b[0m 20ms/step - accuracy: 0.9656 - loss: 0.2086 - val_accuracy: 0.9667 - val_loss: 0.1659\n",
      "Epoch 48/50\n",
      "\u001b[1m4/4\u001b[0m \u001b[32m━━━━━━━━━━━━━━━━━━━━\u001b[0m\u001b[37m\u001b[0m \u001b[1m0s\u001b[0m 20ms/step - accuracy: 0.9583 - loss: 0.2049 - val_accuracy: 0.9667 - val_loss: 0.1618\n",
      "Epoch 49/50\n",
      "\u001b[1m4/4\u001b[0m \u001b[32m━━━━━━━━━━━━━━━━━━━━\u001b[0m\u001b[37m\u001b[0m \u001b[1m0s\u001b[0m 20ms/step - accuracy: 0.9500 - loss: 0.2176 - val_accuracy: 0.9667 - val_loss: 0.1580\n",
      "Epoch 50/50\n",
      "\u001b[1m4/4\u001b[0m \u001b[32m━━━━━━━━━━━━━━━━━━━━\u001b[0m\u001b[37m\u001b[0m \u001b[1m0s\u001b[0m 20ms/step - accuracy: 0.9479 - loss: 0.2127 - val_accuracy: 0.9667 - val_loss: 0.1546\n",
      "\u001b[1m1/1\u001b[0m \u001b[32m━━━━━━━━━━━━━━━━━━━━\u001b[0m\u001b[37m\u001b[0m \u001b[1m0s\u001b[0m 37ms/step - accuracy: 0.9667 - loss: 0.1546\n",
      "\n",
      "📌 Wyniki modelu:\n",
      "Test Loss: 0.1546\n",
      "Test Accuracy: 0.9667\n"
     ]
    }
   ],
   "source": [
    "# 1. Wczytanie i przygotowanie danych\n",
    "data = load_iris()\n",
    "X, y = data.data, data.target\n",
    "\n",
    "# Normalizacja danych (sieci neuronowe działają lepiej na danych w zakresie ~0-1)\n",
    "scaler = StandardScaler()\n",
    "X = scaler.fit_transform(X)\n",
    "\n",
    "# Podział na zbiór treningowy i testowy\n",
    "X_train, X_test, y_train, y_test = train_test_split(X, y, test_size=0.2, random_state=42)\n",
    "\n",
    "# 2. Tworzenie modelu sieci neuronowej\n",
    "model = keras.Sequential([\n",
    "    keras.layers.Dense(32, activation='relu', input_shape=(X.shape[1],)),  # Warstwa ukryta\n",
    "    keras.layers.Dense(16, activation='relu'),  # Druga warstwa ukryta\n",
    "    keras.layers.Dense(len(np.unique(y)), activation='softmax')  # Warstwa wyjściowa (klasyfikacja wieloklasowa)\n",
    "])\n",
    "\n",
    "# 3. Kompilacja modelu\n",
    "model.compile(optimizer='adam',\n",
    "              loss='sparse_categorical_crossentropy',\n",
    "              metrics=['accuracy'])\n",
    "\n",
    "# 4. Trenowanie modelu\n",
    "history = model.fit(X_train, y_train, epochs=50, validation_data=(X_test, y_test), verbose=1)\n",
    "\n",
    "# 5. Ocena modelu\n",
    "loss, accuracy = model.evaluate(X_test, y_test)\n",
    "print(f\"\\n📌 Wyniki modelu:\")\n",
    "print(f\"Test Loss: {loss:.4f}\")\n",
    "print(f\"Test Accuracy: {accuracy:.4f}\")"
   ]
  },
  {
   "cell_type": "markdown",
   "id": "12f3c20b-d8cc-4c86-a072-b0fb8b70d4ec",
   "metadata": {},
   "source": [
    "# Zadanie 3: Zapisanie i ładowanie modelu (pickle, joblib)\n",
    "1. Zapisz wytrenowany model do pliku (np. model.pkl lub model.joblib) korzystając z\n",
    "biblioteki pickle lub joblib.\n",
    "2. Utwórz osobny skrypt (np. load_model.py), w którym wczytasz zapisany model i\n",
    "wykonasz predykcję dla przykładowego rekordu, by potwierdzić, że model się poprawnie\n",
    "ładuje i działa"
   ]
  },
  {
   "cell_type": "code",
   "execution_count": 18,
   "id": "a1a00cdb-6da1-4a0d-a05f-b80f472b64a7",
   "metadata": {},
   "outputs": [
    {
     "name": "stdout",
     "output_type": "stream",
     "text": [
      "Model wersja 2 zapisany jako 'model_v2.joblib'\n",
      "Model wersja 2 zapisany jako 'model_v2.pkl'\n"
     ]
    }
   ],
   "source": [
    "\n",
    "# 1. Wczytanie danych\n",
    "data = load_iris()\n",
    "X, y = data.data, data.target\n",
    "\n",
    "# 2. Podział na zbiór treningowy i testowy\n",
    "X_train, X_test, y_train, y_test = train_test_split(X, y, test_size=0.2, random_state=42)\n",
    "\n",
    "# 3. Trenowanie modelu z nowymi hiperparametrami (Wersja 2)\n",
    "model_v2 = RandomForestClassifier(n_estimators=150, max_depth=10, min_samples_split=4, random_state=42)\n",
    "model_v2.fit(X_train, y_train)\n",
    "\n",
    "# 4. Zapisanie modelu do pliku .joblib (wersja 2)\n",
    "joblib.dump(model_v2, \"model_v2.joblib\")\n",
    "print(\"Model wersja 2 zapisany jako 'model_v2.joblib'\")\n",
    "\n",
    "# 5. Zapisanie modelu do pliku .pkl (wersja 2)\n",
    "with open(\"model_v2.pkl\", \"wb\") as f:\n",
    "    pickle.dump(model_v2, f)\n",
    "print(\"Model wersja 2 zapisany jako 'model_v2.pkl'\")\n",
    "#Przedtem tutaj instalowaliśmy wersje "
   ]
  },
  {
   "cell_type": "code",
   "execution_count": 16,
   "id": "d231ed53-c115-4348-a612-f6e5a65554de",
   "metadata": {},
   "outputs": [
    {
     "name": "stdout",
     "output_type": "stream",
     "text": [
      "Model wczytany z 'model.joblib'\n",
      "Model wczytany z 'model.pkl'\n",
      "\n",
      " Predykcja dla próbki [[5.1, 3.5, 1.4, 0.2]]:\n",
      "Model joblib przewidział klasę: 0\n",
      "Model pickle przewidział klasę: 0\n"
     ]
    }
   ],
   "source": [
    "# 1. Wczytanie modelu z .joblib\n",
    "model_joblib = joblib.load(\"model.joblib\")\n",
    "print(\"Model wczytany z 'model.joblib'\")\n",
    "\n",
    "# 2. Wczytanie modelu z .pkl\n",
    "with open(\"model.pkl\", \"rb\") as f:\n",
    "    model_pickle = pickle.load(f)\n",
    "print(\"Model wczytany z 'model.pkl'\")\n",
    "\n",
    "# 3. Przykładowy rekord do predykcji (pierwszy rekord ze zbioru testowego)\n",
    "sample_record = np.array([[5.1, 3.5, 1.4, 0.2]])  # Przykładowe cechy z Iris\n",
    "\n",
    "# 4. Predykcja\n",
    "prediction_joblib = model_joblib.predict(sample_record)\n",
    "prediction_pickle = model_pickle.predict(sample_record)\n",
    "\n",
    "print(f\"\\n Predykcja dla próbki {sample_record.tolist()}:\")\n",
    "print(f\"Model joblib przewidział klasę: {prediction_joblib[0]}\")\n",
    "print(f\"Model pickle przewidział klasę: {prediction_pickle[0]}\")"
   ]
  },
  {
   "cell_type": "code",
   "execution_count": null,
   "id": "eea861b3-c5fd-4b7e-b301-e22513a227f2",
   "metadata": {},
   "outputs": [],
   "source": []
  }
 ],
 "metadata": {
  "kernelspec": {
   "display_name": "Python 3 (ipykernel)",
   "language": "python",
   "name": "python3"
  },
  "language_info": {
   "codemirror_mode": {
    "name": "ipython",
    "version": 3
   },
   "file_extension": ".py",
   "mimetype": "text/x-python",
   "name": "python",
   "nbconvert_exporter": "python",
   "pygments_lexer": "ipython3",
   "version": "3.10.12"
  }
 },
 "nbformat": 4,
 "nbformat_minor": 5
}
